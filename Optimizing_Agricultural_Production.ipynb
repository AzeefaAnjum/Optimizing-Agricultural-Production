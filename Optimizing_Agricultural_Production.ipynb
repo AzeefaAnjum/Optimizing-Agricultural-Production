{
  "cells": [
    {
      "cell_type": "markdown",
      "metadata": {
        "id": "bbjfNI0i-fTd"
      },
      "source": [
        "**Importing the libraries**"
      ]
    },
    {
      "cell_type": "code",
      "execution_count": null,
      "metadata": {
        "id": "dseCFM3IjqJZ"
      },
      "outputs": [],
      "source": [
        "import numpy as np\n",
        "import pandas as pd\n",
        "\n",
        "import matplotlib.pyplot as plt\n",
        "import seaborn as sns\n",
        "\n",
        "from ipywidgets import interact\n"
      ]
    },
    {
      "cell_type": "markdown",
      "metadata": {
        "id": "BoS0itYJ-sFy"
      },
      "source": [
        "**uploading the dataset**"
      ]
    },
    {
      "cell_type": "code",
      "execution_count": null,
      "metadata": {
        "colab": {
          "background_save": true,
          "base_uri": "https://localhost:8080/",
          "height": 38
        },
        "id": "wa7HGG9N-nK0",
        "outputId": "5d3ecdcc-e364-498b-dabf-c9e2419acd84"
      },
      "outputs": [
        {
          "data": {
            "text/html": [
              "\n",
              "     <input type=\"file\" id=\"files-e22024cc-bf24-4fcd-a82a-c32c8f2136cc\" name=\"files[]\" multiple disabled\n",
              "        style=\"border:none\" />\n",
              "     <output id=\"result-e22024cc-bf24-4fcd-a82a-c32c8f2136cc\">\n",
              "      Upload widget is only available when the cell has been executed in the\n",
              "      current browser session. Please rerun this cell to enable.\n",
              "      </output>\n",
              "      <script>// Copyright 2017 Google LLC\n",
              "//\n",
              "// Licensed under the Apache License, Version 2.0 (the \"License\");\n",
              "// you may not use this file except in compliance with the License.\n",
              "// You may obtain a copy of the License at\n",
              "//\n",
              "//      http://www.apache.org/licenses/LICENSE-2.0\n",
              "//\n",
              "// Unless required by applicable law or agreed to in writing, software\n",
              "// distributed under the License is distributed on an \"AS IS\" BASIS,\n",
              "// WITHOUT WARRANTIES OR CONDITIONS OF ANY KIND, either express or implied.\n",
              "// See the License for the specific language governing permissions and\n",
              "// limitations under the License.\n",
              "\n",
              "/**\n",
              " * @fileoverview Helpers for google.colab Python module.\n",
              " */\n",
              "(function(scope) {\n",
              "function span(text, styleAttributes = {}) {\n",
              "  const element = document.createElement('span');\n",
              "  element.textContent = text;\n",
              "  for (const key of Object.keys(styleAttributes)) {\n",
              "    element.style[key] = styleAttributes[key];\n",
              "  }\n",
              "  return element;\n",
              "}\n",
              "\n",
              "// Max number of bytes which will be uploaded at a time.\n",
              "const MAX_PAYLOAD_SIZE = 100 * 1024;\n",
              "\n",
              "function _uploadFiles(inputId, outputId) {\n",
              "  const steps = uploadFilesStep(inputId, outputId);\n",
              "  const outputElement = document.getElementById(outputId);\n",
              "  // Cache steps on the outputElement to make it available for the next call\n",
              "  // to uploadFilesContinue from Python.\n",
              "  outputElement.steps = steps;\n",
              "\n",
              "  return _uploadFilesContinue(outputId);\n",
              "}\n",
              "\n",
              "// This is roughly an async generator (not supported in the browser yet),\n",
              "// where there are multiple asynchronous steps and the Python side is going\n",
              "// to poll for completion of each step.\n",
              "// This uses a Promise to block the python side on completion of each step,\n",
              "// then passes the result of the previous step as the input to the next step.\n",
              "function _uploadFilesContinue(outputId) {\n",
              "  const outputElement = document.getElementById(outputId);\n",
              "  const steps = outputElement.steps;\n",
              "\n",
              "  const next = steps.next(outputElement.lastPromiseValue);\n",
              "  return Promise.resolve(next.value.promise).then((value) => {\n",
              "    // Cache the last promise value to make it available to the next\n",
              "    // step of the generator.\n",
              "    outputElement.lastPromiseValue = value;\n",
              "    return next.value.response;\n",
              "  });\n",
              "}\n",
              "\n",
              "/**\n",
              " * Generator function which is called between each async step of the upload\n",
              " * process.\n",
              " * @param {string} inputId Element ID of the input file picker element.\n",
              " * @param {string} outputId Element ID of the output display.\n",
              " * @return {!Iterable<!Object>} Iterable of next steps.\n",
              " */\n",
              "function* uploadFilesStep(inputId, outputId) {\n",
              "  const inputElement = document.getElementById(inputId);\n",
              "  inputElement.disabled = false;\n",
              "\n",
              "  const outputElement = document.getElementById(outputId);\n",
              "  outputElement.innerHTML = '';\n",
              "\n",
              "  const pickedPromise = new Promise((resolve) => {\n",
              "    inputElement.addEventListener('change', (e) => {\n",
              "      resolve(e.target.files);\n",
              "    });\n",
              "  });\n",
              "\n",
              "  const cancel = document.createElement('button');\n",
              "  inputElement.parentElement.appendChild(cancel);\n",
              "  cancel.textContent = 'Cancel upload';\n",
              "  const cancelPromise = new Promise((resolve) => {\n",
              "    cancel.onclick = () => {\n",
              "      resolve(null);\n",
              "    };\n",
              "  });\n",
              "\n",
              "  // Wait for the user to pick the files.\n",
              "  const files = yield {\n",
              "    promise: Promise.race([pickedPromise, cancelPromise]),\n",
              "    response: {\n",
              "      action: 'starting',\n",
              "    }\n",
              "  };\n",
              "\n",
              "  cancel.remove();\n",
              "\n",
              "  // Disable the input element since further picks are not allowed.\n",
              "  inputElement.disabled = true;\n",
              "\n",
              "  if (!files) {\n",
              "    return {\n",
              "      response: {\n",
              "        action: 'complete',\n",
              "      }\n",
              "    };\n",
              "  }\n",
              "\n",
              "  for (const file of files) {\n",
              "    const li = document.createElement('li');\n",
              "    li.append(span(file.name, {fontWeight: 'bold'}));\n",
              "    li.append(span(\n",
              "        `(${file.type || 'n/a'}) - ${file.size} bytes, ` +\n",
              "        `last modified: ${\n",
              "            file.lastModifiedDate ? file.lastModifiedDate.toLocaleDateString() :\n",
              "                                    'n/a'} - `));\n",
              "    const percent = span('0% done');\n",
              "    li.appendChild(percent);\n",
              "\n",
              "    outputElement.appendChild(li);\n",
              "\n",
              "    const fileDataPromise = new Promise((resolve) => {\n",
              "      const reader = new FileReader();\n",
              "      reader.onload = (e) => {\n",
              "        resolve(e.target.result);\n",
              "      };\n",
              "      reader.readAsArrayBuffer(file);\n",
              "    });\n",
              "    // Wait for the data to be ready.\n",
              "    let fileData = yield {\n",
              "      promise: fileDataPromise,\n",
              "      response: {\n",
              "        action: 'continue',\n",
              "      }\n",
              "    };\n",
              "\n",
              "    // Use a chunked sending to avoid message size limits. See b/62115660.\n",
              "    let position = 0;\n",
              "    do {\n",
              "      const length = Math.min(fileData.byteLength - position, MAX_PAYLOAD_SIZE);\n",
              "      const chunk = new Uint8Array(fileData, position, length);\n",
              "      position += length;\n",
              "\n",
              "      const base64 = btoa(String.fromCharCode.apply(null, chunk));\n",
              "      yield {\n",
              "        response: {\n",
              "          action: 'append',\n",
              "          file: file.name,\n",
              "          data: base64,\n",
              "        },\n",
              "      };\n",
              "\n",
              "      let percentDone = fileData.byteLength === 0 ?\n",
              "          100 :\n",
              "          Math.round((position / fileData.byteLength) * 100);\n",
              "      percent.textContent = `${percentDone}% done`;\n",
              "\n",
              "    } while (position < fileData.byteLength);\n",
              "  }\n",
              "\n",
              "  // All done.\n",
              "  yield {\n",
              "    response: {\n",
              "      action: 'complete',\n",
              "    }\n",
              "  };\n",
              "}\n",
              "\n",
              "scope.google = scope.google || {};\n",
              "scope.google.colab = scope.google.colab || {};\n",
              "scope.google.colab._files = {\n",
              "  _uploadFiles,\n",
              "  _uploadFilesContinue,\n",
              "};\n",
              "})(self);\n",
              "</script> "
            ],
            "text/plain": [
              "<IPython.core.display.HTML object>"
            ]
          },
          "metadata": {},
          "output_type": "display_data"
        },
        {
          "ename": "TypeError",
          "evalue": "ignored",
          "output_type": "error",
          "traceback": [
            "\u001b[0;31m---------------------------------------------------------------------------\u001b[0m",
            "\u001b[0;31mTypeError\u001b[0m                                 Traceback (most recent call last)",
            "\u001b[0;32m<ipython-input-2-343bc9e982cc>\u001b[0m in \u001b[0;36m<cell line: 2>\u001b[0;34m()\u001b[0m\n\u001b[1;32m      1\u001b[0m \u001b[0;32mfrom\u001b[0m \u001b[0mgoogle\u001b[0m\u001b[0;34m.\u001b[0m\u001b[0mcolab\u001b[0m \u001b[0;32mimport\u001b[0m \u001b[0mfiles\u001b[0m\u001b[0;34m\u001b[0m\u001b[0;34m\u001b[0m\u001b[0m\n\u001b[0;32m----> 2\u001b[0;31m \u001b[0muploaded\u001b[0m\u001b[0;34m=\u001b[0m\u001b[0mfiles\u001b[0m\u001b[0;34m.\u001b[0m\u001b[0mupload\u001b[0m\u001b[0;34m(\u001b[0m\u001b[0;34m)\u001b[0m   \u001b[0;31m#to upload a file\u001b[0m\u001b[0;34m\u001b[0m\u001b[0;34m\u001b[0m\u001b[0m\n\u001b[0m",
            "\u001b[0;32m/usr/local/lib/python3.10/dist-packages/google/colab/files.py\u001b[0m in \u001b[0;36mupload\u001b[0;34m()\u001b[0m\n\u001b[1;32m     67\u001b[0m   \"\"\"\n\u001b[1;32m     68\u001b[0m \u001b[0;34m\u001b[0m\u001b[0m\n\u001b[0;32m---> 69\u001b[0;31m   \u001b[0muploaded_files\u001b[0m \u001b[0;34m=\u001b[0m \u001b[0m_upload_files\u001b[0m\u001b[0;34m(\u001b[0m\u001b[0mmultiple\u001b[0m\u001b[0;34m=\u001b[0m\u001b[0;32mTrue\u001b[0m\u001b[0;34m)\u001b[0m\u001b[0;34m\u001b[0m\u001b[0;34m\u001b[0m\u001b[0m\n\u001b[0m\u001b[1;32m     70\u001b[0m   \u001b[0;31m# Mapping from original filename to filename as saved locally.\u001b[0m\u001b[0;34m\u001b[0m\u001b[0;34m\u001b[0m\u001b[0m\n\u001b[1;32m     71\u001b[0m   \u001b[0mlocal_filenames\u001b[0m \u001b[0;34m=\u001b[0m \u001b[0mdict\u001b[0m\u001b[0;34m(\u001b[0m\u001b[0;34m)\u001b[0m\u001b[0;34m\u001b[0m\u001b[0;34m\u001b[0m\u001b[0m\n",
            "\u001b[0;32m/usr/local/lib/python3.10/dist-packages/google/colab/files.py\u001b[0m in \u001b[0;36m_upload_files\u001b[0;34m(multiple)\u001b[0m\n\u001b[1;32m    161\u001b[0m   \u001b[0mfiles\u001b[0m \u001b[0;34m=\u001b[0m \u001b[0m_collections\u001b[0m\u001b[0;34m.\u001b[0m\u001b[0mdefaultdict\u001b[0m\u001b[0;34m(\u001b[0m\u001b[0mbytes\u001b[0m\u001b[0;34m)\u001b[0m\u001b[0;34m\u001b[0m\u001b[0;34m\u001b[0m\u001b[0m\n\u001b[1;32m    162\u001b[0m \u001b[0;34m\u001b[0m\u001b[0m\n\u001b[0;32m--> 163\u001b[0;31m   \u001b[0;32mwhile\u001b[0m \u001b[0mresult\u001b[0m\u001b[0;34m[\u001b[0m\u001b[0;34m'action'\u001b[0m\u001b[0;34m]\u001b[0m \u001b[0;34m!=\u001b[0m \u001b[0;34m'complete'\u001b[0m\u001b[0;34m:\u001b[0m\u001b[0;34m\u001b[0m\u001b[0;34m\u001b[0m\u001b[0m\n\u001b[0m\u001b[1;32m    164\u001b[0m     result = _output.eval_js(\n\u001b[1;32m    165\u001b[0m         'google.colab._files._uploadFilesContinue(\"{output_id}\")'.format(\n",
            "\u001b[0;31mTypeError\u001b[0m: 'NoneType' object is not subscriptable"
          ]
        }
      ],
      "source": [
        "from google.colab import files\n",
        "uploaded=files.upload()   #to upload a file"
      ]
    },
    {
      "cell_type": "markdown",
      "metadata": {
        "id": "m6EXMCmo_AEs"
      },
      "source": [
        "**Reading the dataset**"
      ]
    },
    {
      "cell_type": "code",
      "execution_count": null,
      "metadata": {
        "colab": {
          "background_save": true
        },
        "id": "JhWjgChqkuUU"
      },
      "outputs": [],
      "source": [
        "#read dataset\n",
        "data=pd.read_csv('data.csv')"
      ]
    },
    {
      "cell_type": "code",
      "execution_count": null,
      "metadata": {
        "colab": {
          "background_save": true
        },
        "id": "PxCv8aIQlcKz"
      },
      "outputs": [],
      "source": [
        "#to check the shape of the dataset\n",
        "print(\"Shape of the dataset :\",data.shape)"
      ]
    },
    {
      "cell_type": "code",
      "execution_count": null,
      "metadata": {
        "colab": {
          "background_save": true
        },
        "id": "r0EdhozRlxKY"
      },
      "outputs": [],
      "source": [
        "#let's check the head of the data set\n",
        "data.head()"
      ]
    },
    {
      "cell_type": "markdown",
      "metadata": {
        "id": "UJu6rGJJ_M7Y"
      },
      "source": [
        "**Description for each of the columns in the Dataset**"
      ]
    },
    {
      "cell_type": "code",
      "execution_count": null,
      "metadata": {
        "colab": {
          "background_save": true
        },
        "id": "Ogs2fFAamBQa"
      },
      "outputs": [],
      "source": [
        "#let's check if there is any missing value present in dataset\n",
        "data.isnull().sum()"
      ]
    },
    {
      "cell_type": "markdown",
      "metadata": {
        "id": "secswQ-TmxGz"
      },
      "source": [
        "\n",
        "\n",
        "* Fill-NA function is used to replace these missing values with statistical values such as mean ,median or mode  \n",
        "* NA means not available\n",
        "* Pandas have functions like fill-NA,drop-NA to treat missing values\n"
      ]
    },
    {
      "cell_type": "code",
      "execution_count": null,
      "metadata": {
        "colab": {
          "background_save": true
        },
        "id": "U57_6uzUmeDc"
      },
      "outputs": [],
      "source": [
        "#Let's check the crops present in this dataset\n",
        "data['label'].value_counts()"
      ]
    },
    {
      "cell_type": "markdown",
      "metadata": {
        "id": "tgSbnF5X_hbl"
      },
      "source": [
        "**Descriptive Statistics**"
      ]
    },
    {
      "cell_type": "code",
      "execution_count": null,
      "metadata": {
        "colab": {
          "background_save": true
        },
        "id": "cHAdrGgnn3nD"
      },
      "outputs": [],
      "source": [
        "#Let's check the summary for all the crops\n",
        "\n",
        "print(\"Average Ratio of Nitrogen in the soil : {0: .2f}\".format(data['N'].mean()))\n",
        "print(\"Average Ratio of Phosphorous in the soil : {0: .2f}\".format(data['P'].mean()))\n",
        "print(\"Average Ratio of Potassium in the soil : {0: .2f}\".format(data['K'].mean()))\n",
        "print(\"Average Temperature in Celcius : {0: .2f}\".format(data['temperature'].mean()))\n",
        "print(\"Average Relative Humidity in % : {0: .2f}\".format(data['humidity'].mean()))\n",
        "print(\"Average PH Value of the soil : {0: .2f}\".format(data['ph'].mean()))\n",
        "print(\"Average Rainfall in mm : {0: .2f}\".format(data['rainfall'].mean()))"
      ]
    },
    {
      "cell_type": "code",
      "execution_count": null,
      "metadata": {
        "colab": {
          "background_save": true
        },
        "id": "MXVqbwqKp7ee"
      },
      "outputs": [],
      "source": [
        "#Lets check the summary statistics for each of the crops\n",
        "\n",
        "@interact\n",
        "def summary(crops=list(data['label'].value_counts().index)):\n",
        "  x=data[data['label']==crops]\n",
        "  print(\"---------------------------------------------------------\")\n",
        "  print(\"Statistics for Nitrogen\")\n",
        "  print(\"Minimum Nitrogen Required : \", x['N'].min())\n",
        "  print(\"Average Nitrogen Required : \", x['N'].mean())\n",
        "  print(\"Maximum Nitrogen Required : \", x['N'].max())\n",
        "  print(\"---------------------------------------------------------\")\n",
        "  print(\"Statistics for Phosphorous\")\n",
        "  print(\"Minimum Phosphorous Required : \", x['P'].min())\n",
        "  print(\"Average Phosphorous Required : \", x['P'].mean())\n",
        "  print(\"Maximum Phosphorous Required : \", x['P'].max())\n",
        "  print(\"---------------------------------------------------------\")\n",
        "  print(\"Statistics for Potassium\")\n",
        "  print(\"Minimum Potassium Required : \", x['K'].min())\n",
        "  print(\"Average Pottasium Required : \", x['K'].mean())\n",
        "  print(\"Maximum Pottasium Required : \", x['K'].max())\n",
        "  print(\"---------------------------------------------------------\")\n",
        "  print(\"Statistics for Temperature\")\n",
        "  print(\"Minimum Temperature Required : {0:.2f}\".format(x['temperature'].min()))\n",
        "  print(\"Average Temperature Required : {0:.2f}\".format(x['temperature'].mean()))\n",
        "  print(\"Maximum Temperature Required : {0:.2f}\".format(x['temperature'].max()))\n",
        "  print(\"---------------------------------------------------------\")\n",
        "  print(\"Statistics for Humidity\")\n",
        "  print(\"Minimum Humidity Required : {0:.2f}\".format(x['humidity'].min()))\n",
        "  print(\"Average Humidity Required : {0:.2f}\".format(x['humidity'].mean()))\n",
        "  print(\"Maximum Humidity Required : {0:.2f}\".format(x['humidity'].max()))\n",
        "  print(\"---------------------------------------------------------\")\n",
        "  print(\"Statistics for PH\")\n",
        "  print(\"Minimum PH Required : {0:.2f}\".format(x['ph'].min()))\n",
        "  print(\"Average PH Required : {0:.2f}\".format(x['ph'].mean()))\n",
        "  print(\"Maximum PH Required : {0:.2f}\".format(x['ph'].max()))\n",
        "  print(\"---------------------------------------------------------\")\n",
        "  print(\"Statistics for Rainfall\")\n",
        "  print(\"Minimum Rainfall Required : {0:.2f}\".format(x['rainfall'].min()))\n",
        "  print(\"Average Rainfall Required : {0:.2f}\".format(x['rainfall'].mean()))\n",
        "  print(\"Maximum Rainfall Required : {0:.2f}\".format(x['rainfall'].max()))"
      ]
    },
    {
      "cell_type": "code",
      "execution_count": null,
      "metadata": {
        "colab": {
          "background_save": true
        },
        "id": "FNL_4Nhj9GO3"
      },
      "outputs": [],
      "source": [
        "#let's compare the Average requirement for each crop with average condition\n",
        "@interact\n",
        "def compare(conditions=['N','P','K','temperature','ph','humidity','rainfall']):\n",
        "  print(\"Average value for\",conditions,\"is {0:.2f}\".format(data[conditions].mean()))\n",
        "  print(\"---------------------------------------------------------------------\")\n",
        "  print(\"Rice : {0:.2f}\".format(data[(data['label']=='rice')][conditions].mean()))\n",
        "  print(\"Black Grams : {0:.2f}\".format(data[(data['label']=='blackgram')][conditions].mean()))\n",
        "  print(\"Banana : {0:.2f}\".format(data[(data['label']=='banana')][conditions].mean()))\n",
        "  print(\"Jute : {0:.2f}\".format(data[(data['label']=='jute')][conditions].mean()))\n",
        "  print(\"Coconut : {0:.2f}\".format(data[(data['label']=='coconut')][conditions].mean()))\n",
        "  print(\"Apple : {0:.2f}\".format(data[(data['label']=='apple')][conditions].mean()))\n",
        "  print(\"Papaya : {0:.2f}\".format(data[(data['label']=='papaya')][conditions].mean()))\n",
        "  print(\"Muskmelon : {0:.2f}\".format(data[(data['label']=='muskmelon')][conditions].mean()))\n",
        "  print(\"Grapes : {0:.2f}\".format(data[(data['label']=='grapes')][conditions].mean()))\n",
        "  print(\"Watermelon : {0:.2f}\".format(data[(data['label']=='watermelon')][conditions].mean()))\n",
        "  print(\"Kidney Beans : {0:.2f}\".format(data[(data['label']=='kidneybeans')][conditions].mean()))\n",
        "  print(\"Mung Beans : {0:.2f}\".format(data[(data['label']=='mungbean')][conditions].mean()))\n",
        "  print(\"Oranges : {0:.2f}\".format(data[(data['label']=='orange')][conditions].mean()))\n",
        "  print(\"Chick Peas : {0:.2f}\".format(data[(data['label']=='chickpea')][conditions].mean()))\n",
        "  print(\"Lentils : {0:.2f}\".format(data[(data['label']=='lentil')][conditions].mean()))\n",
        "  print(\"Cotton : {0:.2f}\".format(data[(data['label']=='cotton')][conditions].mean()))\n",
        "  print(\"Maize : {0:.2f}\".format(data[(data['label']=='maize')][conditions].mean()))\n",
        "  print(\"Moth Beans : {0:.2f}\".format(data[(data['label']=='mothbeans')][conditions].mean()))\n",
        "  print(\"Pegion Peas : {0:.2f}\".format(data[(data['label']=='pegionpeas')][conditions].mean()))\n",
        "  print(\"Mango : {0:.2f}\".format(data[(data['label']=='mango')][conditions].mean()))\n",
        "  print(\"Pomegranate: {0:.2f}\".format(data[(data['label']=='pomegranate')][conditions].mean()))\n",
        "  print(\"Coffee : {0:.2f}\".format(data[(data['label']=='coffee')][conditions].mean()))"
      ]
    },
    {
      "cell_type": "code",
      "execution_count": null,
      "metadata": {
        "colab": {
          "background_save": true
        },
        "id": "XKmQnxI0DZpK"
      },
      "outputs": [],
      "source": [
        "#let's make this function more clear and easy\n",
        "@interact\n",
        "def compare(conditions = ['N','P','K','temperature','ph','humidity','rainfall']):\n",
        "  print(\"Crops which require greater than average\",conditions,'\\n')\n",
        "  print(data[data[conditions]>data[conditions].mean()]['label'].unique())\n",
        "  print(\"-----------------------------------------------------------\")\n",
        "  print(\"Crops which require less than average\",conditions,'\\n')\n",
        "  print(data[data[conditions]<=data[conditions].mean()]['label'].unique())"
      ]
    },
    {
      "cell_type": "code",
      "execution_count": null,
      "metadata": {
        "colab": {
          "background_save": true
        },
        "id": "qdpExq1YE_Th"
      },
      "outputs": [],
      "source": [
        "plt.rcParams['figure.figsize'] = (15, 7)\n",
        "plt.subplot(2,4,1)\n",
        "sns.distplot(data['N'],color='pink')\n",
        "plt.xlabel('Ratio of Nitrogen',fontsize=10)\n",
        "plt.grid()\n",
        "plt.subplot(2,4,2)\n",
        "sns.distplot(data['P'],color='yellow')\n",
        "plt.xlabel('Ratio of Phosphorous',fontsize=10)\n",
        "plt.grid()\n",
        "plt.subplot(2,4,3)\n",
        "sns.distplot(data['K'],color='darkblue')\n",
        "plt.xlabel('Ratio of Potassium',fontsize=10)\n",
        "plt.grid()\n",
        "plt.subplot(2,4,4)\n",
        "sns.distplot(data['temperature'],color='green')\n",
        "plt.xlabel('Ratio of Temperature',fontsize=10)\n",
        "plt.grid()\n",
        "plt.subplot(2,4,5)\n",
        "sns.distplot(data['rainfall'],color='grey')\n",
        "plt.xlabel('Ratio of Rainfall',fontsize=10)\n",
        "plt.grid()\n",
        "plt.subplot(2,4,6)\n",
        "sns.distplot(data['humidity'],color='lightgreen')\n",
        "plt.xlabel('Ratio of Humidity',fontsize=10)\n",
        "plt.grid()\n",
        "plt.subplot(2,4,7)\n",
        "sns.distplot(data['ph'],color='black')\n",
        "plt.xlabel('Ratio of PH',fontsize=10)\n",
        "plt.grid()\n",
        "plt.suptitle(\"Distribution for Agricultural Conditions\",fontsize=20)\n",
        "plt.show()"
      ]
    },
    {
      "cell_type": "code",
      "execution_count": null,
      "metadata": {
        "colab": {
          "background_save": true
        },
        "id": "o_s3FBJrJfAi"
      },
      "outputs": [],
      "source": [
        "print(\"Some interesting patterns\")\n",
        "print(\"----------------------------------------\")\n",
        "print(\"Crops which requires very High Ratio of Nitrogen Content in Soil:\",data[data['N']>120]['label'].unique())\n",
        "print(\"Crops which requires very High Ratio of Phosphorous Content in Soil:\",data[data['P']>100]['label'].unique())\n",
        "print(\"Crops which requires very High Ratio of Potassium Content in Soil:\",data[data['K']>200]['label'].unique())\n",
        "print(\"Crops which requires very High Rainfall:\",data[data['rainfall']>200]['label'].unique())\n",
        "print(\"Crops which requires very Low Temperature:\",data[data['temperature']<10]['label'].unique())\n",
        "print(\"Crops which requires very High Temperature:\",data[data['temperature']>40]['label'].unique())\n",
        "print(\"Crops which requires very Low Humidity:\",data[data['humidity']<20]['label'].unique())\n",
        "print(\"Crops which requires very Low PH:\",data[data['ph']<4]['label'].unique())\n",
        "print(\"Crops which requires very High PH:\",data[data['ph']>9]['label'].unique())"
      ]
    },
    {
      "cell_type": "code",
      "execution_count": null,
      "metadata": {
        "colab": {
          "background_save": true
        },
        "id": "sZ0dC7X7M0kI"
      },
      "outputs": [],
      "source": [
        "#Let's understand which crops can be only grown in summer , winter and rainy season\n",
        "print(\"SUMMER CROPS\")\n",
        "print(data[(data['temperature']>30) & (data['humidity']>50)]['label'].unique())\n",
        "print(\"WINTER CROPS\")\n",
        "print(data[(data['temperature']<20) & (data['humidity']>30)]['label'].unique())\n",
        "print(\"RAINY CROPS\")\n",
        "print(data[(data['rainfall']>200) & (data['humidity']>30)]['label'].unique())"
      ]
    },
    {
      "cell_type": "markdown",
      "metadata": {
        "id": "dt-DkT38HHXd"
      },
      "source": [
        "**Clustering**"
      ]
    },
    {
      "cell_type": "code",
      "execution_count": null,
      "metadata": {
        "colab": {
          "background_save": true
        },
        "id": "-KyMMzOyN2l4"
      },
      "outputs": [],
      "source": [
        "from sklearn.cluster import KMeans\n",
        "\n",
        "#removing the labels column\n",
        "x=data.drop(['label'],axis=1)\n",
        "\n",
        "#selecting all the values of the data\n",
        "x=x.values\n",
        "\n",
        "#checking the shape\n",
        "print(x.shape)"
      ]
    },
    {
      "cell_type": "code",
      "execution_count": null,
      "metadata": {
        "colab": {
          "background_save": true
        },
        "id": "WAS_mAiHObXt"
      },
      "outputs": [],
      "source": [
        "#Let's determine the Optimum Number of Clusters within the Dataset\n",
        "\n",
        "plt.rcParams['figure.figsize']=(10,4)\n",
        "\n",
        "wcss=[]\n",
        "for i in range(1,11):\n",
        "  km=KMeans(n_clusters=i,init='k-means++',max_iter=300,n_init=10,random_state=0)\n",
        "  km.fit(x)\n",
        "  wcss.append(km.inertia_)\n",
        "\n",
        "#Let's plot the results\n",
        "plt.plot(range(1,11),wcss)\n",
        "plt.title('The Elbow Method ',fontsize=20)\n",
        "plt.xlabel('No.of Clusters')\n",
        "plt.ylabel('wcss')\n",
        "plt.show()"
      ]
    },
    {
      "cell_type": "code",
      "execution_count": null,
      "metadata": {
        "colab": {
          "background_save": true
        },
        "id": "pRtuxzsIQSmL"
      },
      "outputs": [],
      "source": [
        "#Let's implement the K Means algorithm to perform Clustering analysis\n",
        "km=KMeans(n_clusters=4, init='k-means++',max_iter=300, n_init=10, random_state=0)\n",
        "y_means = km.fit_predict(x)\n",
        "\n",
        "#Let's find out the results\n",
        "a = data['label']\n",
        "y_means = pd.DataFrame(y_means)\n",
        "z = pd.concat([y_means, a], axis=1)\n",
        "z = z.rename(columns = {0: 'cluster'})\n",
        "\n",
        "#Let's check the clusters of each crops\n",
        "print(\"Lets check the Results After Applying the K Means Clustering Analysis \\n\")\n",
        "print(\"Crops in First Cluster:\", z[z['cluster']==0]['label'].unique())\n",
        "print(\"---------------------------------------------------------------------\")\n",
        "print(\"Crops in Second Cluster:\", z[z['cluster']==1]['label'].unique())\n",
        "print(\"---------------------------------------------------------------------\")\n",
        "print(\"Crops in Third Cluster:\", z[z['cluster']==2]['label'].unique())\n",
        "print(\"---------------------------------------------------------------------\")\n",
        "print(\"Crops in Fourth Cluster:\", z[z['cluster']==3]['label'].unique())"
      ]
    },
    {
      "cell_type": "markdown",
      "metadata": {
        "id": "OflBQyuWJZvu"
      },
      "source": [
        "**visualizing the Hidden Patterns**"
      ]
    },
    {
      "cell_type": "code",
      "execution_count": null,
      "metadata": {
        "colab": {
          "background_save": true
        },
        "id": "x99H757LJJII"
      },
      "outputs": [],
      "source": [
        "### Data Visualizations\n",
        "\n",
        "plt.rcParams['figure.figsize'] = (15, 8)\n",
        "\n",
        "plt.subplot(2, 4, 1)\n",
        "sns.barplot(data['N'], data['label'])\n",
        "plt.ylabel(' ')\n",
        "plt.xlabel('Ratio of Nitrogen', fontsize = 10)\n",
        "plt.yticks(fontsize = 10)\n",
        "\n",
        "plt.subplot(2, 4, 2)\n",
        "sns.barplot(data['P'], data['label'])\n",
        "plt.ylabel(' ')\n",
        "plt.xlabel('Ratio of Phosphorous', fontsize = 10)\n",
        "plt.yticks(fontsize = 10)\n",
        "\n",
        "plt.subplot(2, 4, 3)\n",
        "sns.barplot(data['K'], data['label'])\n",
        "plt.ylabel(' ')\n",
        "plt.xlabel('Ratio of Potassium', fontsize = 10)\n",
        "plt.yticks(fontsize = 10)\n",
        "\n",
        "plt.subplot(2, 4, 4)\n",
        "sns.barplot(data['temperature'], data['label'])\n",
        "plt.ylabel(' ')\n",
        "plt.xlabel('Temperature', fontsize = 10)\n",
        "plt.yticks(fontsize = 10)\n",
        "\n",
        "plt.subplot(2, 4, 5)\n",
        "sns.barplot(data['humidity'], data['label'])\n",
        "plt.ylabel(' ')\n",
        "plt.xlabel('Humidity', fontsize = 10)\n",
        "plt.yticks(fontsize = 10)\n",
        "\n",
        "plt.subplot(2, 4, 6)\n",
        "sns.barplot(data['ph'], data['label'])\n",
        "plt.ylabel(' ')\n",
        "plt.xlabel('pH of Soil', fontsize = 10)\n",
        "plt.yticks(fontsize = 10)\n",
        "\n",
        "plt.subplot(2, 4, 7)\n",
        "sns.barplot(data['rainfall'], data['label'])\n",
        "plt.ylabel(' ')\n",
        "plt.xlabel('Rainfall', fontsize = 10)\n",
        "plt.yticks(fontsize = 10)\n",
        "\n",
        "plt.suptitle('Visualizing the Impact of Different Conditions on Crops', fontsize = 15)\n",
        "plt.show()"
      ]
    },
    {
      "cell_type": "markdown",
      "metadata": {
        "id": "comTT-rkKo6v"
      },
      "source": [
        "**Predictive Modelling**"
      ]
    },
    {
      "cell_type": "code",
      "execution_count": null,
      "metadata": {
        "colab": {
          "background_save": true
        },
        "id": "dfA72V4MSnRA"
      },
      "outputs": [],
      "source": [
        "#lets split the Dataset for Predictive Modelling\n",
        "\n",
        "y = data['label']\n",
        "x = data.drop(['label'],axis=1)\n",
        "\n",
        "print(\"Shape of x:\",x.shape)\n",
        "print(\"Shape of y:\",y.shape)"
      ]
    },
    {
      "cell_type": "code",
      "execution_count": null,
      "metadata": {
        "colab": {
          "background_save": true
        },
        "id": "g-5szC89TH0F"
      },
      "outputs": [],
      "source": [
        "#lets create training and testing sets for validation of results\n",
        "from sklearn.model_selection import train_test_split\n",
        "\n",
        "x_train,x_test,y_train,y_test = train_test_split(x,y,test_size=0.2,random_state=0)\n",
        "\n",
        "print(\"The Shape of x train :\",x_train.shape)\n",
        "print(\"The Shape of x test :\",x_test.shape)\n",
        "print(\"The Shape of y train :\",y_train.shape)\n",
        "print(\"The Shape of y test :\",y_test.shape)"
      ]
    },
    {
      "cell_type": "markdown",
      "metadata": {
        "id": "KBtkG95KK6T_"
      },
      "source": [
        "**Regression**"
      ]
    },
    {
      "cell_type": "code",
      "execution_count": null,
      "metadata": {
        "colab": {
          "background_save": true
        },
        "id": "woyRtEc1UkKu"
      },
      "outputs": [],
      "source": [
        "#lets create a predictive model\n",
        "\n",
        "from sklearn.linear_model import LogisticRegression\n",
        "\n",
        "model = LogisticRegression()\n",
        "model.fit(x_train,y_train)\n",
        "y_pred=model.predict(x_test)"
      ]
    },
    {
      "cell_type": "code",
      "execution_count": null,
      "metadata": {
        "colab": {
          "background_save": true
        },
        "id": "sX1hdnbjVjfl"
      },
      "outputs": [],
      "source": [
        "#lets evaluate the model performance\n",
        "from  sklearn.metrics import confusion_matrix\n",
        "\n",
        "#lets print the confusion matrix first\n",
        "plt.rcParams['figure.figsize']=(10,10)\n",
        "cm=confusion_matrix(y_test,y_pred)\n",
        "sns.heatmap(cm,annot=True,cmap='Wistia')\n",
        "plt.title('Confusion Matrix for Logistic Regression',fontsize=15)\n",
        "plt.show()"
      ]
    },
    {
      "cell_type": "code",
      "execution_count": null,
      "metadata": {
        "colab": {
          "background_save": true
        },
        "id": "XG7ByPi9WuNz"
      },
      "outputs": [],
      "source": [
        "#lets print the classification report also\n",
        "from  sklearn.metrics import classification_report\n",
        "cr = classification_report(y_test,y_pred)\n",
        "print(cr)"
      ]
    },
    {
      "cell_type": "code",
      "execution_count": null,
      "metadata": {
        "colab": {
          "background_save": true
        },
        "id": "neMqWvzLYMPc"
      },
      "outputs": [],
      "source": [
        "data.head()"
      ]
    },
    {
      "cell_type": "code",
      "execution_count": null,
      "metadata": {
        "colab": {
          "background_save": true
        },
        "id": "gffL7tVoYT_H"
      },
      "outputs": [],
      "source": [
        "prediction = model.predict((np.array([[90,\n",
        "                                       40,\n",
        "                                       40,\n",
        "                                       20,\n",
        "                                       80,\n",
        "                                       7,\n",
        "                                       200]])))\n",
        "print(\"The Suggested Crop for Given Climatc Condition is :\",prediction)"
      ]
    }
  ],
  "metadata": {
    "colab": {
      "provenance": []
    },
    "kernelspec": {
      "display_name": "Python 3",
      "name": "python3"
    },
    "language_info": {
      "name": "python"
    }
  },
  "nbformat": 4,
  "nbformat_minor": 0
}